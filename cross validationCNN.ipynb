{
 "cells": [
  {
   "cell_type": "code",
   "execution_count": 1,
   "id": "fad81292",
   "metadata": {
    "executionInfo": {
     "elapsed": 2877,
     "status": "ok",
     "timestamp": 1639464705983,
     "user": {
      "displayName": "ماريهان رافت",
      "photoUrl": "https://lh3.googleusercontent.com/a/default-user=s64",
      "userId": "00468797597672560945"
     },
     "user_tz": -120
    },
    "id": "fad81292"
   },
   "outputs": [],
   "source": [
    "import os\n",
    "import cv2\n",
    "import pandas\n",
    "from matplotlib import style\n",
    "import seaborn as sns\n",
    "import itertools\n",
    "import random as rn\n",
    "from random import shuffle\n",
    "from zipfile import ZipFile\n",
    "from PIL import Image\n",
    "import numpy as np\n",
    "from tqdm import tqdm\n",
    "import matplotlib.pyplot as plt # Library for plotting the images and the loss function\n",
    "from sklearn import datasets,linear_model\n",
    "from sklearn.model_selection import train_test_split,KFold,GridSearchCV\n",
    "from sklearn.metrics import classification_report,accuracy_score,precision_score,roc_curve\n",
    "from sklearn.metrics import confusion_matrix\n",
    "from keras.preprocessing.image import ImageDataGenerator\n",
    "from sklearn.preprocessing import LabelEncoder\n",
    "from keras import backend as k\n",
    "from keras.models import Sequential\n",
    "from keras.layers import Dense\n",
    "from tensorflow.keras.optimizers import Adam,SGD,Adadelta,Adagrad,RMSprop\n",
    "from tensorflow.keras.utils import to_categorical\n",
    "import tensorflow\n",
    "import tensorflow as tf # We import the data set from tensorflow and build the model there\n",
    "import fnmatch\n",
    "from tensorflow.keras.models import Model,Sequential\n",
    "from tensorflow.keras.layers import Conv2D,MaxPooling2D,Dense,Activation,Flatten,Dropout,BatchNormalization"
   ]
  },
  {
   "cell_type": "code",
   "execution_count": 2,
   "id": "d900f911",
   "metadata": {
    "executionInfo": {
     "elapsed": 43,
     "status": "ok",
     "timestamp": 1639464705989,
     "user": {
      "displayName": "ماريهان رافت",
      "photoUrl": "https://lh3.googleusercontent.com/a/default-user=s64",
      "userId": "00468797597672560945"
     },
     "user_tz": -120
    },
    "id": "d900f911"
   },
   "outputs": [],
   "source": [
    "%matplotlib inline\n",
    "style.use('fivethirtyeight')\n",
    "sns.set(style='whitegrid',color_codes=True)\n",
    "#/ADRIANA_LIMA"
   ]
  },
  {
   "cell_type": "code",
   "execution_count": 3,
   "id": "858fc7ec",
   "metadata": {
    "colab": {
     "base_uri": "https://localhost:8080/",
     "height": 312
    },
    "executionInfo": {
     "elapsed": 633,
     "status": "error",
     "timestamp": 1639464706586,
     "user": {
      "displayName": "ماريهان رافت",
      "photoUrl": "https://lh3.googleusercontent.com/a/default-user=s64",
      "userId": "00468797597672560945"
     },
     "user_tz": -120
    },
    "id": "858fc7ec",
    "outputId": "4cdeca1a-dee7-49b4-8caa-072f958cadad"
   },
   "outputs": [
    {
     "name": "stdout",
     "output_type": "stream",
     "text": [
      "['Adriana Lima', 'Alex Lawther', 'Bill Gates', 'Rami Malik', 'Rihanna']\n"
     ]
    }
   ],
   "source": [
    "print(os.listdir('C:/Users/Ahmed Wanas/Downloads/classes/binary_class'))"
   ]
  },
  {
   "cell_type": "code",
   "execution_count": 4,
   "id": "753484d0",
   "metadata": {
    "executionInfo": {
     "elapsed": 27,
     "status": "aborted",
     "timestamp": 1639464706574,
     "user": {
      "displayName": "ماريهان رافت",
      "photoUrl": "https://lh3.googleusercontent.com/a/default-user=s64",
      "userId": "00468797597672560945"
     },
     "user_tz": -120
    },
    "id": "753484d0"
   },
   "outputs": [],
   "source": [
    "import warnings\n",
    "warnings.filterwarnings('always')\n",
    "warnings.filterwarnings('ignore')"
   ]
  },
  {
   "cell_type": "code",
   "execution_count": 5,
   "id": "2a2dcac7",
   "metadata": {
    "executionInfo": {
     "elapsed": 33,
     "status": "aborted",
     "timestamp": 1639464706582,
     "user": {
      "displayName": "ماريهان رافت",
      "photoUrl": "https://lh3.googleusercontent.com/a/default-user=s64",
      "userId": "00468797597672560945"
     },
     "user_tz": -120
    },
    "id": "2a2dcac7"
   },
   "outputs": [],
   "source": [
    "X=[]\n",
    "Z=[]\n",
    "IMG_SIZE=150\n",
    "ADRIANA_LIMA='C:/Users/Ahmed Wanas/Downloads/classes/binary_class/Adriana Lima'\n",
    "ALEX_LAWTHER='C:/Users/Ahmed Wanas/Downloads/classes/binary_class/Alex Lawther'\n",
    "BILL_GATES='C:/Users/Ahmed Wanas/Downloads/classes/binary_class/Bill Gates'\n",
    "RIHANNA='C:/Users/Ahmed Wanas/Downloads/classes/binary_class/Rihanna'\n",
    "RAMI_MALEK='C:/Users/Ahmed Wanas/Downloads/classes/binary_class/Rami Malik'"
   ]
  },
  {
   "cell_type": "code",
   "execution_count": 6,
   "id": "412bcbe9",
   "metadata": {
    "id": "412bcbe9"
   },
   "outputs": [],
   "source": [
    "def assign_label(img,name):\n",
    "    return name\n",
    "IMG_SIZE=50"
   ]
  },
  {
   "cell_type": "code",
   "execution_count": 7,
   "id": "41567c87",
   "metadata": {
    "id": "41567c87"
   },
   "outputs": [],
   "source": [
    "def make_train_data(name,DIR):\n",
    "    for img in tqdm(os.listdir(DIR)):\n",
    "        if fnmatch.fnmatch(img,'*jpg'):\n",
    "            label=assign_label(img,name)\n",
    "            path=os.path.join(DIR,img)\n",
    "            img=cv2.imread(path,cv2.IMREAD_GRAYSCALE)\n",
    "            img=cv2.resize(img,(IMG_SIZE,IMG_SIZE))\n",
    "            X.append(np.array(img))\n",
    "            Z.append(str(label))"
   ]
  },
  {
   "cell_type": "code",
   "execution_count": 8,
   "id": "e540d345",
   "metadata": {
    "id": "e540d345",
    "outputId": "33d8062c-e572-44d1-be8a-cbe7383a704d"
   },
   "outputs": [
    {
     "name": "stderr",
     "output_type": "stream",
     "text": [
      "100%|██████████| 213/213 [00:03<00:00, 55.43it/s]"
     ]
    },
    {
     "name": "stdout",
     "output_type": "stream",
     "text": [
      "213\n"
     ]
    },
    {
     "name": "stderr",
     "output_type": "stream",
     "text": [
      "\n"
     ]
    }
   ],
   "source": [
    "make_train_data('Adriana Lima',ADRIANA_LIMA)\n",
    "print(len(X))\n",
    "\n"
   ]
  },
  {
   "cell_type": "code",
   "execution_count": 9,
   "id": "9dd6ea09",
   "metadata": {
    "id": "9dd6ea09",
    "outputId": "31165e7f-b384-4c80-8264-1a66f11f8f7a"
   },
   "outputs": [
    {
     "name": "stderr",
     "output_type": "stream",
     "text": [
      "100%|██████████| 152/152 [00:02<00:00, 65.44it/s]"
     ]
    },
    {
     "name": "stdout",
     "output_type": "stream",
     "text": [
      "365\n"
     ]
    },
    {
     "name": "stderr",
     "output_type": "stream",
     "text": [
      "\n"
     ]
    }
   ],
   "source": [
    "make_train_data('Alex Lawther',ALEX_LAWTHER)\n",
    "print(len(X))"
   ]
  },
  {
   "cell_type": "code",
   "execution_count": 10,
   "id": "2199ed98",
   "metadata": {
    "id": "2199ed98",
    "outputId": "6ebca138-98f2-4b59-9593-7432dd522bca"
   },
   "outputs": [
    {
     "name": "stderr",
     "output_type": "stream",
     "text": [
      "100%|██████████| 122/122 [00:01<00:00, 83.03it/s] "
     ]
    },
    {
     "name": "stdout",
     "output_type": "stream",
     "text": [
      "487\n"
     ]
    },
    {
     "name": "stderr",
     "output_type": "stream",
     "text": [
      "\n"
     ]
    }
   ],
   "source": [
    "make_train_data('Bill Gates',BILL_GATES)\n",
    "print(len(X))"
   ]
  },
  {
   "cell_type": "code",
   "execution_count": 11,
   "id": "cbb000ae",
   "metadata": {
    "id": "cbb000ae",
    "outputId": "283f9fa5-a695-4df4-e490-1ec233db3b9b"
   },
   "outputs": [
    {
     "name": "stderr",
     "output_type": "stream",
     "text": [
      "100%|██████████| 133/133 [00:01<00:00, 90.03it/s]"
     ]
    },
    {
     "name": "stdout",
     "output_type": "stream",
     "text": [
      "620\n"
     ]
    },
    {
     "name": "stderr",
     "output_type": "stream",
     "text": [
      "\n"
     ]
    }
   ],
   "source": [
    "make_train_data('Rihanna',RIHANNA)\n",
    "print(len(X))"
   ]
  },
  {
   "cell_type": "code",
   "execution_count": 12,
   "id": "30f0174f",
   "metadata": {
    "id": "30f0174f",
    "outputId": "d7365398-cfe2-4274-851d-ee8283edd2c4"
   },
   "outputs": [
    {
     "name": "stderr",
     "output_type": "stream",
     "text": [
      "100%|██████████| 160/160 [00:02<00:00, 77.97it/s]"
     ]
    },
    {
     "name": "stdout",
     "output_type": "stream",
     "text": [
      "780\n"
     ]
    },
    {
     "name": "stderr",
     "output_type": "stream",
     "text": [
      "\n"
     ]
    }
   ],
   "source": [
    "make_train_data('Rami Malik',RAMI_MALEK)\n",
    "print(len(X))"
   ]
  },
  {
   "cell_type": "code",
   "execution_count": 13,
   "id": "aa743e34",
   "metadata": {
    "id": "aa743e34",
    "outputId": "2b451c8b-e8fc-4d18-d1b0-b5fb67673222"
   },
   "outputs": [
    {
     "data": {
      "image/png": "[encoded data removed]",
      "text/plain": [
       "<Figure size 1500x1500 with 10 Axes>"
      ]
     },
     "metadata": {},
     "output_type": "display_data"
    }
   ],
   "source": [
    "fig,ax=plt.subplots(5,2)\n",
    "fig.set_size_inches(15,15)\n",
    "for i in range (5):\n",
    "    for j in range(2):\n",
    "        l=rn.randint(0,len(Z))\n",
    "        ax[i,j].imshow(X[l],cmap='gray')\n",
    "        ax[i,j].set_title('name: '+Z[l])\n",
    "plt.tight_layout()        \n",
    "    "
   ]
  },
  {
   "cell_type": "code",
   "execution_count": 14,
   "id": "201a9671",
   "metadata": {
    "id": "201a9671"
   },
   "outputs": [],
   "source": [
    "le=LabelEncoder()\n",
    "Y=le.fit_transform(Z)\n",
    "Y=to_categorical(Y,5)\n",
    "X=np.array(X)\n",
    "X=X/255.0\n",
    "\n"
   ]
  },
  {
   "cell_type": "code",
   "execution_count": 15,
   "id": "ee9d1799",
   "metadata": {
    "id": "ee9d1799"
   },
   "outputs": [],
   "source": [
    "x_train,x_test,y_train,y_test=train_test_split(X,Y,test_size=0.25,random_state=42)"
   ]
  },
  {
   "cell_type": "code",
   "execution_count": 16,
   "id": "94e61046",
   "metadata": {
    "id": "94e61046"
   },
   "outputs": [],
   "source": [
    "np.random.seed(42)\n",
    "rn.seed(42)\n",
    "tf.random.set_seed(42)\n",
    "x_train=np.array(x_train).reshape(-1,IMG_SIZE,IMG_SIZE,1) "
   ]
  },
  {
   "cell_type": "code",
   "execution_count": 17,
   "id": "68a8bea9",
   "metadata": {
    "id": "68a8bea9"
   },
   "outputs": [],
   "source": [
    "model = Sequential()\n",
    "model.add(Conv2D(filters=32,kernel_size=(5,5),padding='same',activation='relu',input_shape=( 50, 50,1)))\n",
    "model.add(MaxPooling2D(pool_size=(2,2)))\n",
    "\n",
    "model.add(Conv2D(filters=64,kernel_size=(3,3),padding='same',activation='relu'))  \n",
    "model.add(MaxPooling2D(pool_size=(2,2),strides=(2,2)))\n",
    "\n",
    "model.add(Conv2D(filters=96,kernel_size=(3,3),padding='same',activation='relu'))  \n",
    "model.add(MaxPooling2D(pool_size=(2,2),strides=(2,2)))\n",
    "\n",
    "model.add(Conv2D(filters=96,kernel_size=(3,3),padding='same',activation='relu'))  \n",
    "model.add(MaxPooling2D(pool_size=(2,2),strides=(2,2)))\n",
    "\n",
    "model.add(Flatten())\n",
    "model.add(Dense(512))\n",
    "model.add(Activation('relu'))\n",
    "model.add(Dense(5,activation='softmax'))"
   ]
  },
  {
   "cell_type": "code",
   "execution_count": 18,
   "id": "e366db72",
   "metadata": {
    "id": "e366db72"
   },
   "outputs": [],
   "source": [
    "batch_size=128\n",
    "epochs=1\n",
    "from keras.callbacks import ReduceLROnPlateau\n",
    "red_lr=ReduceLROnPlateau(monitor='val_acc',patience=3,verbose=1,factor=.1)\n",
    "\n"
   ]
  },
  {
   "cell_type": "code",
   "execution_count": 19,
   "id": "c63cc57b",
   "metadata": {
    "id": "c63cc57b"
   },
   "outputs": [],
   "source": [
    "datagen=ImageDataGenerator(featurewise_center=False,samplewise_center=False,\n",
    "                          featurewise_std_normalization=False,\n",
    "                          samplewise_std_normalization=False,\n",
    "                          zca_whitening=False,\n",
    "                          rotation_range=10,\n",
    "                          zoom_range=.1,\n",
    "                          width_shift_range=.2,\n",
    "                          height_shift_range=.2,\n",
    "                          horizontal_flip=True,\n",
    "                          vertical_flip=False)\n",
    "\n",
    "datagen.fit(x_train)"
   ]
  },
  {
   "cell_type": "code",
   "execution_count": 20,
   "id": "e408748b",
   "metadata": {
    "id": "e408748b"
   },
   "outputs": [],
   "source": [
    "model.compile(optimizer=Adam(lr=.001),loss=\"categorical_crossentropy\",metrics=[\"accuracy\"])"
   ]
  },
  {
   "cell_type": "code",
   "execution_count": null,
   "id": "b1d852db",
   "metadata": {
    "id": "b1d852db"
   },
   "outputs": [],
   "source": []
  },
  {
   "cell_type": "code",
   "execution_count": 21,
   "id": "2083a8b4",
   "metadata": {
    "id": "2083a8b4",
    "outputId": "3dfb63b0-9158-416f-ab6e-3f3ce9ef8aef"
   },
   "outputs": [
    {
     "name": "stdout",
     "output_type": "stream",
     "text": [
      "Epoch 1/130\n",
      "5/5 [==============================] - 12s 2s/step - loss: 1.6022 - accuracy: 0.2410 - val_loss: 1.5872 - val_accuracy: 0.2718\n",
      "Epoch 2/130\n",
      "5/5 [==============================] - 5s 1s/step - loss: 1.5843 - accuracy: 0.2735 - val_loss: 1.5692 - val_accuracy: 0.2718\n",
      "Epoch 3/130\n",
      "5/5 [==============================] - 7s 1s/step - loss: 1.5711 - accuracy: 0.2786 - val_loss: 1.5301 - val_accuracy: 0.2769\n",
      "Epoch 4/130\n",
      "5/5 [==============================] - 7s 1s/step - loss: 1.5417 - accuracy: 0.3077 - val_loss: 1.4326 - val_accuracy: 0.4103\n",
      "Epoch 5/130\n",
      "5/5 [==============================] - 8s 2s/step - loss: 1.4835 - accuracy: 0.3538 - val_loss: 1.3186 - val_accuracy: 0.4821\n",
      "Epoch 6/130\n",
      "5/5 [==============================] - 8s 1s/step - loss: 1.3960 - accuracy: 0.3915 - val_loss: 1.2091 - val_accuracy: 0.5385\n",
      "Epoch 7/130\n",
      "5/5 [==============================] - 7s 1s/step - loss: 1.3968 - accuracy: 0.4068 - val_loss: 1.2655 - val_accuracy: 0.4821\n",
      "Epoch 8/130\n",
      "5/5 [==============================] - 6s 1s/step - loss: 1.3729 - accuracy: 0.4222 - val_loss: 1.2153 - val_accuracy: 0.5128\n",
      "Epoch 9/130\n",
      "5/5 [==============================] - 6s 1s/step - loss: 1.3486 - accuracy: 0.4479 - val_loss: 1.1342 - val_accuracy: 0.5795\n",
      "Epoch 10/130\n",
      "5/5 [==============================] - 7s 1s/step - loss: 1.2897 - accuracy: 0.4701 - val_loss: 1.0763 - val_accuracy: 0.5795\n",
      "Epoch 11/130\n",
      "5/5 [==============================] - 5s 1s/step - loss: 1.2911 - accuracy: 0.4786 - val_loss: 1.2665 - val_accuracy: 0.4615\n",
      "Epoch 12/130\n",
      "5/5 [==============================] - 8s 2s/step - loss: 1.2833 - accuracy: 0.4598 - val_loss: 1.0791 - val_accuracy: 0.6051\n",
      "Epoch 13/130\n",
      "5/5 [==============================] - 7s 1s/step - loss: 1.2349 - accuracy: 0.4906 - val_loss: 0.9800 - val_accuracy: 0.6821\n",
      "Epoch 14/130\n",
      "5/5 [==============================] - 7s 1s/step - loss: 1.2167 - accuracy: 0.5265 - val_loss: 0.9417 - val_accuracy: 0.6564\n",
      "Epoch 15/130\n",
      "5/5 [==============================] - 2s 416ms/step - loss: 1.1286 - accuracy: 0.5607 - val_loss: 0.8879 - val_accuracy: 0.7179\n",
      "Epoch 16/130\n",
      "5/5 [==============================] - 3s 516ms/step - loss: 1.1383 - accuracy: 0.5504 - val_loss: 0.9242 - val_accuracy: 0.6256\n",
      "Epoch 17/130\n",
      "5/5 [==============================] - 2s 397ms/step - loss: 1.1375 - accuracy: 0.5282 - val_loss: 0.9552 - val_accuracy: 0.6205\n",
      "Epoch 18/130\n",
      "5/5 [==============================] - 2s 398ms/step - loss: 1.1061 - accuracy: 0.5607 - val_loss: 0.9210 - val_accuracy: 0.5897\n",
      "Epoch 19/130\n",
      "5/5 [==============================] - 3s 513ms/step - loss: 1.1003 - accuracy: 0.5282 - val_loss: 0.7983 - val_accuracy: 0.7128\n",
      "Epoch 20/130\n",
      "5/5 [==============================] - 3s 486ms/step - loss: 1.0619 - accuracy: 0.5915 - val_loss: 0.7981 - val_accuracy: 0.6974\n",
      "Epoch 21/130\n",
      "5/5 [==============================] - 3s 471ms/step - loss: 1.0261 - accuracy: 0.5863 - val_loss: 0.8063 - val_accuracy: 0.6872\n",
      "Epoch 22/130\n",
      "5/5 [==============================] - 2s 426ms/step - loss: 1.0400 - accuracy: 0.6034 - val_loss: 0.6978 - val_accuracy: 0.7436\n",
      "Epoch 23/130\n",
      "5/5 [==============================] - 2s 357ms/step - loss: 0.9622 - accuracy: 0.6239 - val_loss: 0.7855 - val_accuracy: 0.6667\n",
      "Epoch 24/130\n",
      "5/5 [==============================] - 5s 1s/step - loss: 0.9678 - accuracy: 0.6239 - val_loss: 0.6606 - val_accuracy: 0.7846\n",
      "Epoch 25/130\n",
      "5/5 [==============================] - 8s 2s/step - loss: 0.9450 - accuracy: 0.6376 - val_loss: 0.7267 - val_accuracy: 0.6821\n",
      "Epoch 26/130\n",
      "5/5 [==============================] - 6s 1s/step - loss: 0.9818 - accuracy: 0.5829 - val_loss: 0.6355 - val_accuracy: 0.7641\n",
      "Epoch 27/130\n",
      "5/5 [==============================] - 8s 2s/step - loss: 0.9428 - accuracy: 0.6376 - val_loss: 0.6975 - val_accuracy: 0.7333\n",
      "Epoch 28/130\n",
      "5/5 [==============================] - 7s 1s/step - loss: 0.9659 - accuracy: 0.6085 - val_loss: 0.6729 - val_accuracy: 0.7590\n",
      "Epoch 29/130\n",
      "5/5 [==============================] - 9s 2s/step - loss: 0.9391 - accuracy: 0.6291 - val_loss: 0.7255 - val_accuracy: 0.6923\n",
      "Epoch 30/130\n",
      "5/5 [==============================] - 6s 1s/step - loss: 0.9363 - accuracy: 0.6462 - val_loss: 0.6675 - val_accuracy: 0.7282\n",
      "Epoch 31/130\n",
      "5/5 [==============================] - 7s 2s/step - loss: 0.8632 - accuracy: 0.6615 - val_loss: 0.7497 - val_accuracy: 0.6718\n",
      "Epoch 32/130\n",
      "5/5 [==============================] - 8s 1s/step - loss: 0.8721 - accuracy: 0.6496 - val_loss: 0.6544 - val_accuracy: 0.7436\n",
      "Epoch 33/130\n",
      "5/5 [==============================] - 12s 3s/step - loss: 0.8509 - accuracy: 0.6684 - val_loss: 0.6050 - val_accuracy: 0.7436\n",
      "Epoch 34/130\n",
      "5/5 [==============================] - 9s 2s/step - loss: 0.8226 - accuracy: 0.6752 - val_loss: 0.5407 - val_accuracy: 0.7897\n",
      "Epoch 35/130\n",
      "5/5 [==============================] - 12s 3s/step - loss: 0.8396 - accuracy: 0.6513 - val_loss: 0.5524 - val_accuracy: 0.7744\n",
      "Epoch 36/130\n",
      "5/5 [==============================] - 11s 2s/step - loss: 0.7785 - accuracy: 0.7009 - val_loss: 0.5439 - val_accuracy: 0.7897\n",
      "Epoch 37/130\n",
      "5/5 [==============================] - 10s 2s/step - loss: 0.8301 - accuracy: 0.6462 - val_loss: 0.5024 - val_accuracy: 0.8205\n",
      "Epoch 38/130\n",
      "5/5 [==============================] - 9s 2s/step - loss: 0.7176 - accuracy: 0.7128 - val_loss: 0.4948 - val_accuracy: 0.8256\n",
      "Epoch 39/130\n",
      "5/5 [==============================] - 11s 2s/step - loss: 0.7207 - accuracy: 0.7282 - val_loss: 0.5042 - val_accuracy: 0.8205\n",
      "Epoch 40/130\n",
      "5/5 [==============================] - 10s 2s/step - loss: 0.7832 - accuracy: 0.7299 - val_loss: 0.4648 - val_accuracy: 0.8462\n",
      "Epoch 41/130\n",
      "5/5 [==============================] - 11s 2s/step - loss: 0.7610 - accuracy: 0.7231 - val_loss: 0.4779 - val_accuracy: 0.8051\n",
      "Epoch 42/130\n",
      "5/5 [==============================] - 11s 2s/step - loss: 0.7621 - accuracy: 0.6923 - val_loss: 0.4828 - val_accuracy: 0.7949\n",
      "Epoch 43/130\n",
      "5/5 [==============================] - 5s 659ms/step - loss: 0.6883 - accuracy: 0.7350 - val_loss: 0.4475 - val_accuracy: 0.8256\n",
      "Epoch 44/130\n",
      "5/5 [==============================] - 7s 1s/step - loss: 0.6477 - accuracy: 0.7590 - val_loss: 0.4690 - val_accuracy: 0.8256\n",
      "Epoch 45/130\n",
      "5/5 [==============================] - 6s 1s/step - loss: 0.6978 - accuracy: 0.7333 - val_loss: 0.4440 - val_accuracy: 0.8205\n",
      "Epoch 46/130\n",
      "5/5 [==============================] - 6s 1s/step - loss: 0.6575 - accuracy: 0.7556 - val_loss: 0.4343 - val_accuracy: 0.8359\n",
      "Epoch 47/130\n",
      "5/5 [==============================] - 3s 534ms/step - loss: 0.6666 - accuracy: 0.7658 - val_loss: 0.5565 - val_accuracy: 0.7744\n",
      "Epoch 48/130\n",
      "5/5 [==============================] - 5s 968ms/step - loss: 0.6669 - accuracy: 0.7453 - val_loss: 0.6764 - val_accuracy: 0.7128\n",
      "Epoch 49/130\n",
      "5/5 [==============================] - 6s 1s/step - loss: 0.8704 - accuracy: 0.6803 - val_loss: 0.5648 - val_accuracy: 0.7795\n",
      "Epoch 50/130\n",
      "5/5 [==============================] - 5s 843ms/step - loss: 0.7621 - accuracy: 0.7282 - val_loss: 0.6097 - val_accuracy: 0.7590\n",
      "Epoch 51/130\n",
      "5/5 [==============================] - 6s 1s/step - loss: 0.7044 - accuracy: 0.7436 - val_loss: 0.4415 - val_accuracy: 0.8513\n",
      "Epoch 52/130\n",
      "5/5 [==============================] - 9s 2s/step - loss: 0.6800 - accuracy: 0.7521 - val_loss: 0.5017 - val_accuracy: 0.8205\n",
      "Epoch 53/130\n",
      "5/5 [==============================] - 9s 2s/step - loss: 0.6383 - accuracy: 0.7778 - val_loss: 0.4293 - val_accuracy: 0.8205\n",
      "Epoch 54/130\n",
      "5/5 [==============================] - 10s 2s/step - loss: 0.5872 - accuracy: 0.8000 - val_loss: 0.3948 - val_accuracy: 0.8564\n",
      "Epoch 55/130\n",
      "5/5 [==============================] - 10s 2s/step - loss: 0.5429 - accuracy: 0.8017 - val_loss: 0.4534 - val_accuracy: 0.8256\n",
      "Epoch 56/130\n",
      "5/5 [==============================] - 11s 2s/step - loss: 0.5791 - accuracy: 0.7658 - val_loss: 0.4944 - val_accuracy: 0.8154\n",
      "Epoch 57/130\n",
      "5/5 [==============================] - 10s 2s/step - loss: 0.5574 - accuracy: 0.8085 - val_loss: 0.4621 - val_accuracy: 0.7897\n",
      "Epoch 58/130\n",
      "5/5 [==============================] - 10s 2s/step - loss: 0.5542 - accuracy: 0.7846 - val_loss: 0.3653 - val_accuracy: 0.8769\n",
      "Epoch 59/130\n",
      "5/5 [==============================] - 9s 2s/step - loss: 0.5384 - accuracy: 0.8017 - val_loss: 0.4331 - val_accuracy: 0.8154\n",
      "Epoch 60/130\n",
      "5/5 [==============================] - 11s 2s/step - loss: 0.5079 - accuracy: 0.8291 - val_loss: 0.4677 - val_accuracy: 0.8308\n",
      "Epoch 61/130\n",
      "5/5 [==============================] - 11s 2s/step - loss: 0.4843 - accuracy: 0.8171 - val_loss: 0.4296 - val_accuracy: 0.8564\n",
      "Epoch 62/130\n",
      "5/5 [==============================] - 13s 3s/step - loss: 0.4276 - accuracy: 0.8462 - val_loss: 0.4457 - val_accuracy: 0.8205\n",
      "Epoch 63/130\n",
      "5/5 [==============================] - 11s 2s/step - loss: 0.4539 - accuracy: 0.8291 - val_loss: 0.3863 - val_accuracy: 0.8462\n",
      "Epoch 64/130\n",
      "5/5 [==============================] - 11s 3s/step - loss: 0.4738 - accuracy: 0.8188 - val_loss: 0.4028 - val_accuracy: 0.8359\n",
      "Epoch 65/130\n",
      "5/5 [==============================] - 10s 2s/step - loss: 0.4291 - accuracy: 0.8513 - val_loss: 0.4131 - val_accuracy: 0.8513\n",
      "Epoch 66/130\n",
      "5/5 [==============================] - 7s 1s/step - loss: 0.4481 - accuracy: 0.8188 - val_loss: 0.4877 - val_accuracy: 0.8205\n",
      "Epoch 67/130\n",
      "5/5 [==============================] - 7s 2s/step - loss: 0.4095 - accuracy: 0.8615 - val_loss: 0.4047 - val_accuracy: 0.8308\n",
      "Epoch 68/130\n",
      "5/5 [==============================] - 7s 1s/step - loss: 0.4226 - accuracy: 0.8530 - val_loss: 0.3254 - val_accuracy: 0.8513\n",
      "Epoch 69/130\n",
      "5/5 [==============================] - 5s 1s/step - loss: 0.3778 - accuracy: 0.8581 - val_loss: 0.3906 - val_accuracy: 0.8410\n",
      "Epoch 70/130\n",
      "5/5 [==============================] - 2s 494ms/step - loss: 0.4249 - accuracy: 0.8376 - val_loss: 0.3207 - val_accuracy: 0.8667\n",
      "Epoch 71/130\n",
      "5/5 [==============================] - 2s 417ms/step - loss: 0.4485 - accuracy: 0.8308 - val_loss: 0.3604 - val_accuracy: 0.8667\n",
      "Epoch 72/130\n",
      "5/5 [==============================] - 2s 358ms/step - loss: 0.3994 - accuracy: 0.8564 - val_loss: 0.3767 - val_accuracy: 0.8410\n",
      "Epoch 73/130\n",
      "5/5 [==============================] - 2s 434ms/step - loss: 0.3898 - accuracy: 0.8598 - val_loss: 0.4180 - val_accuracy: 0.8308\n",
      "Epoch 74/130\n",
      "5/5 [==============================] - 3s 525ms/step - loss: 0.4446 - accuracy: 0.8564 - val_loss: 0.3548 - val_accuracy: 0.8667\n",
      "Epoch 75/130\n",
      "5/5 [==============================] - 3s 475ms/step - loss: 0.4013 - accuracy: 0.8496 - val_loss: 0.3378 - val_accuracy: 0.8359\n",
      "Epoch 76/130\n",
      "5/5 [==============================] - 3s 458ms/step - loss: 0.3583 - accuracy: 0.8564 - val_loss: 0.4272 - val_accuracy: 0.8256\n",
      "Epoch 77/130\n",
      "5/5 [==============================] - 5s 1s/step - loss: 0.3578 - accuracy: 0.8547 - val_loss: 0.4549 - val_accuracy: 0.8205\n",
      "Epoch 78/130\n",
      "5/5 [==============================] - 5s 1s/step - loss: 0.3530 - accuracy: 0.8701 - val_loss: 0.4014 - val_accuracy: 0.8615\n",
      "Epoch 79/130\n",
      "5/5 [==============================] - 7s 1s/step - loss: 0.3913 - accuracy: 0.8496 - val_loss: 0.4915 - val_accuracy: 0.8154\n",
      "Epoch 80/130\n",
      "5/5 [==============================] - 6s 1s/step - loss: 0.3587 - accuracy: 0.8786 - val_loss: 0.3259 - val_accuracy: 0.8821\n",
      "Epoch 81/130\n",
      "5/5 [==============================] - 8s 2s/step - loss: 0.3750 - accuracy: 0.8581 - val_loss: 0.3960 - val_accuracy: 0.8308\n",
      "Epoch 82/130\n",
      "5/5 [==============================] - 6s 1s/step - loss: 0.3433 - accuracy: 0.8872 - val_loss: 0.3481 - val_accuracy: 0.9026\n",
      "Epoch 83/130\n",
      "5/5 [==============================] - 7s 1s/step - loss: 0.3605 - accuracy: 0.8684 - val_loss: 0.2923 - val_accuracy: 0.9026\n",
      "Epoch 84/130\n",
      "5/5 [==============================] - 7s 1s/step - loss: 0.3522 - accuracy: 0.8632 - val_loss: 0.2912 - val_accuracy: 0.8769\n",
      "Epoch 85/130\n",
      "5/5 [==============================] - 5s 1s/step - loss: 0.2979 - accuracy: 0.8872 - val_loss: 0.3102 - val_accuracy: 0.8923\n",
      "Epoch 86/130\n",
      "5/5 [==============================] - 8s 2s/step - loss: 0.3378 - accuracy: 0.8821 - val_loss: 0.2951 - val_accuracy: 0.8821\n",
      "Epoch 87/130\n",
      "5/5 [==============================] - 6s 1s/step - loss: 0.3087 - accuracy: 0.8838 - val_loss: 0.4002 - val_accuracy: 0.8667\n",
      "Epoch 88/130\n",
      "5/5 [==============================] - 8s 2s/step - loss: 0.3406 - accuracy: 0.8803 - val_loss: 0.3744 - val_accuracy: 0.8410\n",
      "Epoch 89/130\n",
      "5/5 [==============================] - 7s 1s/step - loss: 0.3046 - accuracy: 0.8735 - val_loss: 0.3144 - val_accuracy: 0.8872\n",
      "Epoch 90/130\n",
      "5/5 [==============================] - 7s 1s/step - loss: 0.3246 - accuracy: 0.8735 - val_loss: 0.2881 - val_accuracy: 0.8872\n",
      "Epoch 91/130\n",
      "5/5 [==============================] - 6s 1s/step - loss: 0.3475 - accuracy: 0.8735 - val_loss: 0.3617 - val_accuracy: 0.8564\n",
      "Epoch 92/130\n",
      "5/5 [==============================] - 7s 1s/step - loss: 0.2902 - accuracy: 0.8940 - val_loss: 0.3527 - val_accuracy: 0.8564\n",
      "Epoch 93/130\n",
      "5/5 [==============================] - 8s 2s/step - loss: 0.2992 - accuracy: 0.8906 - val_loss: 0.3430 - val_accuracy: 0.8564\n",
      "Epoch 94/130\n",
      "5/5 [==============================] - 7s 1s/step - loss: 0.2621 - accuracy: 0.9197 - val_loss: 0.2895 - val_accuracy: 0.8821\n",
      "Epoch 95/130\n",
      "5/5 [==============================] - 6s 1s/step - loss: 0.2651 - accuracy: 0.9145 - val_loss: 0.3528 - val_accuracy: 0.8821\n",
      "Epoch 96/130\n",
      "5/5 [==============================] - 5s 983ms/step - loss: 0.2654 - accuracy: 0.9060 - val_loss: 0.3133 - val_accuracy: 0.8872\n",
      "Epoch 97/130\n",
      "5/5 [==============================] - 3s 639ms/step - loss: 0.3308 - accuracy: 0.8684 - val_loss: 0.3055 - val_accuracy: 0.8923\n",
      "Epoch 98/130\n",
      "5/5 [==============================] - 3s 511ms/step - loss: 0.2940 - accuracy: 0.8957 - val_loss: 0.3117 - val_accuracy: 0.8564\n",
      "Epoch 99/130\n",
      "5/5 [==============================] - 3s 561ms/step - loss: 0.3021 - accuracy: 0.8889 - val_loss: 0.3485 - val_accuracy: 0.8821\n",
      "Epoch 100/130\n",
      "5/5 [==============================] - 3s 610ms/step - loss: 0.2723 - accuracy: 0.8991 - val_loss: 0.3113 - val_accuracy: 0.8872\n",
      "Epoch 101/130\n",
      "5/5 [==============================] - 3s 563ms/step - loss: 0.2797 - accuracy: 0.9060 - val_loss: 0.3769 - val_accuracy: 0.8718\n",
      "Epoch 102/130\n",
      "5/5 [==============================] - 3s 542ms/step - loss: 0.2771 - accuracy: 0.9128 - val_loss: 0.3129 - val_accuracy: 0.8769\n",
      "Epoch 103/130\n",
      "5/5 [==============================] - 3s 484ms/step - loss: 0.2880 - accuracy: 0.8923 - val_loss: 0.2963 - val_accuracy: 0.8769\n",
      "Epoch 104/130\n",
      "5/5 [==============================] - 2s 396ms/step - loss: 0.2310 - accuracy: 0.9214 - val_loss: 0.3684 - val_accuracy: 0.8821\n",
      "Epoch 105/130\n",
      "5/5 [==============================] - 5s 1s/step - loss: 0.2685 - accuracy: 0.9128 - val_loss: 0.3718 - val_accuracy: 0.8769\n",
      "Epoch 106/130\n",
      "5/5 [==============================] - 7s 1s/step - loss: 0.2418 - accuracy: 0.9094 - val_loss: 0.3276 - val_accuracy: 0.8872\n",
      "Epoch 107/130\n",
      "5/5 [==============================] - 7s 1s/step - loss: 0.2197 - accuracy: 0.9299 - val_loss: 0.2896 - val_accuracy: 0.9282\n",
      "Epoch 108/130\n",
      "5/5 [==============================] - 6s 1s/step - loss: 0.2085 - accuracy: 0.9265 - val_loss: 0.3446 - val_accuracy: 0.8974\n",
      "Epoch 109/130\n",
      "5/5 [==============================] - 7s 1s/step - loss: 0.2452 - accuracy: 0.9111 - val_loss: 0.3409 - val_accuracy: 0.8769\n",
      "Epoch 110/130\n",
      "5/5 [==============================] - 6s 1s/step - loss: 0.2024 - accuracy: 0.9282 - val_loss: 0.4428 - val_accuracy: 0.8410\n",
      "Epoch 111/130\n",
      "5/5 [==============================] - 5s 909ms/step - loss: 0.2392 - accuracy: 0.9214 - val_loss: 0.2747 - val_accuracy: 0.9026\n",
      "Epoch 112/130\n",
      "5/5 [==============================] - 2s 445ms/step - loss: 0.2299 - accuracy: 0.9197 - val_loss: 0.3473 - val_accuracy: 0.8615\n",
      "Epoch 113/130\n",
      "5/5 [==============================] - 2s 354ms/step - loss: 0.2535 - accuracy: 0.9197 - val_loss: 0.3316 - val_accuracy: 0.8923\n",
      "Epoch 114/130\n",
      "5/5 [==============================] - 2s 329ms/step - loss: 0.2126 - accuracy: 0.9179 - val_loss: 0.2884 - val_accuracy: 0.8923\n",
      "Epoch 115/130\n",
      "5/5 [==============================] - 2s 338ms/step - loss: 0.2176 - accuracy: 0.9162 - val_loss: 0.2478 - val_accuracy: 0.9077\n",
      "Epoch 116/130\n",
      "5/5 [==============================] - 2s 409ms/step - loss: 0.2297 - accuracy: 0.9231 - val_loss: 0.2868 - val_accuracy: 0.8872\n",
      "Epoch 117/130\n",
      "5/5 [==============================] - 2s 354ms/step - loss: 0.2223 - accuracy: 0.9162 - val_loss: 0.3433 - val_accuracy: 0.8667\n",
      "Epoch 118/130\n",
      "5/5 [==============================] - 2s 375ms/step - loss: 0.2225 - accuracy: 0.9231 - val_loss: 0.3130 - val_accuracy: 0.8821\n",
      "Epoch 119/130\n",
      "5/5 [==============================] - 2s 338ms/step - loss: 0.2611 - accuracy: 0.9179 - val_loss: 0.4557 - val_accuracy: 0.8513\n",
      "Epoch 120/130\n",
      "5/5 [==============================] - 2s 387ms/step - loss: 0.2129 - accuracy: 0.9145 - val_loss: 0.2607 - val_accuracy: 0.9179\n",
      "Epoch 121/130\n",
      "5/5 [==============================] - 2s 395ms/step - loss: 0.2283 - accuracy: 0.9248 - val_loss: 0.2567 - val_accuracy: 0.9128\n",
      "Epoch 122/130\n",
      "5/5 [==============================] - 2s 323ms/step - loss: 0.2225 - accuracy: 0.9111 - val_loss: 0.4075 - val_accuracy: 0.8462\n",
      "Epoch 123/130\n",
      "5/5 [==============================] - 2s 334ms/step - loss: 0.2092 - accuracy: 0.9350 - val_loss: 0.2453 - val_accuracy: 0.9231\n",
      "Epoch 124/130\n",
      "5/5 [==============================] - 2s 347ms/step - loss: 0.1659 - accuracy: 0.9436 - val_loss: 0.2413 - val_accuracy: 0.9128\n",
      "Epoch 125/130\n",
      "5/5 [==============================] - 2s 350ms/step - loss: 0.1810 - accuracy: 0.9368 - val_loss: 0.5753 - val_accuracy: 0.8205\n",
      "Epoch 126/130\n",
      "5/5 [==============================] - 3s 487ms/step - loss: 0.2362 - accuracy: 0.9197 - val_loss: 0.2860 - val_accuracy: 0.8769\n",
      "Epoch 127/130\n",
      "5/5 [==============================] - 2s 372ms/step - loss: 0.2170 - accuracy: 0.9197 - val_loss: 0.2947 - val_accuracy: 0.8872\n",
      "Epoch 128/130\n",
      "5/5 [==============================] - 2s 377ms/step - loss: 0.2229 - accuracy: 0.9145 - val_loss: 0.2883 - val_accuracy: 0.8923\n",
      "Epoch 129/130\n",
      "5/5 [==============================] - 2s 333ms/step - loss: 0.1706 - accuracy: 0.9333 - val_loss: 0.3326 - val_accuracy: 0.8923\n",
      "Epoch 130/130\n",
      "5/5 [==============================] - 2s 307ms/step - loss: 0.1725 - accuracy: 0.9538 - val_loss: 0.2688 - val_accuracy: 0.9077\n"
     ]
    },
    {
     "data": {
      "text/plain": [
       "<keras.callbacks.History at 0x1875219b610>"
      ]
     },
     "execution_count": 21,
     "metadata": {},
     "output_type": "execute_result"
    }
   ],
   "source": [
    "model.fit_generator(datagen.flow(x_train,y_train,batch_size=batch_size)\n",
    "                    ,epochs=130\n",
    "                    ,validation_data=(x_test,y_test),\n",
    "                    verbose=1\n",
    "                   )\n"
   ]
  },
  {
   "cell_type": "code",
   "execution_count": 22,
   "id": "a6b529f1",
   "metadata": {
    "id": "a6b529f1",
    "outputId": "078fca6d-741b-4914-9485-c709f189c66a"
   },
   "outputs": [
    {
     "name": "stdout",
     "output_type": "stream",
     "text": [
      "2/2 [==============================] - 0s 63ms/step - loss: 0.2688 - accuracy: 0.9077\n"
     ]
    },
    {
     "data": {
      "text/plain": [
       "[0.2687545418739319, 0.9076923131942749]"
      ]
     },
     "execution_count": 22,
     "metadata": {},
     "output_type": "execute_result"
    }
   ],
   "source": [
    "model.evaluate(x_test,y_test,batch_size=128)"
   ]
  },
  {
   "cell_type": "code",
   "execution_count": 23,
   "id": "a8757f23",
   "metadata": {
    "id": "a8757f23",
    "outputId": "f0a24d4e-d05b-4d79-88ed-507df2823f5a"
   },
   "outputs": [
    {
     "name": "stdout",
     "output_type": "stream",
     "text": [
      "7/7 [==============================] - 1s 31ms/step\n"
     ]
    },
    {
     "data": {
      "text/plain": [
       "array([[3.41787308e-01, 1.40190735e-01, 9.83249993e-06, 4.08794582e-01,\n",
       "        1.09217495e-01],\n",
       "       [1.14860386e-01, 4.12977533e-04, 2.97299994e-06, 3.43097345e-04,\n",
       "        8.84380519e-01],\n",
       "       [4.00780469e-01, 9.66089488e-07, 3.04793730e-06, 1.50949199e-04,\n",
       "        5.99064589e-01],\n",
       "       [3.93580971e-03, 1.76370994e-03, 1.45639488e-05, 9.93649304e-01,\n",
       "        6.36515208e-04],\n",
       "       [3.37457028e-03, 1.28907454e-08, 1.74360537e-12, 6.75871448e-08,\n",
       "        9.96625364e-01],\n",
       "       [9.99903142e-01, 1.07178566e-09, 5.67584987e-14, 3.45048573e-10,\n",
       "        9.67478918e-05],\n",
       "       [3.44023050e-08, 6.94493156e-06, 9.99981105e-01, 1.17518566e-05,\n",
       "        3.32954286e-08],\n",
       "       [3.70960891e-01, 8.95392243e-03, 1.53754559e-06, 4.56804410e-03,\n",
       "        6.15515590e-01],\n",
       "       [6.21302097e-05, 8.59583795e-01, 2.74920519e-02, 3.71564948e-03,\n",
       "        1.09146334e-01],\n",
       "       [1.86520927e-02, 1.44406469e-04, 1.42971749e-06, 2.34381863e-04,\n",
       "        9.80967641e-01],\n",
       "       [7.71619852e-06, 2.48678342e-01, 6.78926170e-01, 7.23758563e-02,\n",
       "        1.19497481e-05],\n",
       "       [6.15902391e-05, 5.87590548e-05, 1.41370017e-03, 9.98465836e-01,\n",
       "        1.23013407e-07],\n",
       "       [3.14928940e-03, 5.59091717e-02, 1.17704202e-03, 9.39758658e-01,\n",
       "        5.79730067e-06],\n",
       "       [1.21988103e-06, 2.07024686e-06, 4.18867543e-03, 9.95808065e-01,\n",
       "        1.05434394e-11],\n",
       "       [1.06639658e-04, 7.05842748e-02, 1.04375102e-01, 8.24921846e-01,\n",
       "        1.21313888e-05],\n",
       "       [9.99981940e-01, 4.01794750e-07, 2.21752172e-10, 4.10614227e-08,\n",
       "        1.75961213e-05],\n",
       "       [1.74250046e-04, 5.99004626e-01, 2.30589535e-07, 4.74224595e-04,\n",
       "        4.00346726e-01],\n",
       "       [9.99072671e-01, 6.19681668e-06, 2.45652905e-06, 5.02563162e-05,\n",
       "        8.68299918e-04],\n",
       "       [1.67449898e-09, 9.96679544e-01, 3.31495563e-03, 5.49760534e-06,\n",
       "        2.13667892e-08],\n",
       "       [9.92539287e-01, 1.19255984e-03, 8.37895550e-06, 1.90318970e-04,\n",
       "        6.06932212e-03],\n",
       "       [9.98973846e-01, 5.99206214e-05, 1.34292233e-09, 3.88165108e-06,\n",
       "        9.62346443e-04],\n",
       "       [6.26542091e-01, 8.45221730e-05, 8.22257833e-04, 9.45971755e-04,\n",
       "        3.71605098e-01],\n",
       "       [7.31771469e-01, 2.26919859e-04, 2.41100594e-01, 2.68044975e-02,\n",
       "        9.65664658e-05],\n",
       "       [6.05307541e-05, 3.19167082e-10, 1.45136805e-13, 5.48853407e-09,\n",
       "        9.99939382e-01],\n",
       "       [9.99984562e-01, 2.90320834e-08, 1.23304806e-12, 1.94871841e-10,\n",
       "        1.53585734e-05],\n",
       "       [7.10204244e-03, 5.56058422e-10, 3.90981498e-14, 6.93740967e-11,\n",
       "        9.92898047e-01],\n",
       "       [1.16633577e-03, 8.84095498e-04, 3.15178069e-04, 9.97620881e-01,\n",
       "        1.35973751e-05],\n",
       "       [3.52055719e-03, 1.36344379e-03, 9.94773328e-01, 1.57264162e-06,\n",
       "        3.41208477e-04],\n",
       "       [7.79729559e-10, 8.48574837e-06, 9.99991000e-01, 4.73998028e-07,\n",
       "        4.99991749e-11],\n",
       "       [9.53189552e-01, 6.96914185e-07, 1.09420346e-11, 6.75083766e-06,\n",
       "        4.68029827e-02],\n",
       "       [1.10612367e-04, 1.50217339e-02, 9.84718263e-01, 1.47682222e-04,\n",
       "        1.71990609e-06],\n",
       "       [9.97536063e-01, 3.78010192e-08, 1.23118377e-12, 1.03552807e-07,\n",
       "        2.46367557e-03],\n",
       "       [2.12058559e-01, 6.79601872e-05, 7.51131188e-12, 3.25885339e-05,\n",
       "        7.87840962e-01],\n",
       "       [8.36634934e-02, 5.02046780e-04, 3.36920675e-06, 4.24262835e-03,\n",
       "        9.11588371e-01],\n",
       "       [2.53240178e-05, 2.79707660e-04, 4.39244723e-05, 9.99651074e-01,\n",
       "        7.83492382e-09],\n",
       "       [1.02613645e-04, 9.75712240e-01, 3.39781516e-04, 2.70843436e-03,\n",
       "        2.11368352e-02],\n",
       "       [1.50046792e-04, 5.50458150e-04, 2.91557895e-04, 9.99007881e-01,\n",
       "        1.62820890e-09],\n",
       "       [9.44976705e-07, 4.93693864e-04, 1.98316688e-08, 5.12392830e-08,\n",
       "        9.99505222e-01],\n",
       "       [5.45633139e-09, 9.99975264e-01, 2.17242672e-07, 1.45081287e-07,\n",
       "        2.43499908e-05],\n",
       "       [1.87691674e-03, 3.52234486e-03, 9.64600733e-10, 2.10582712e-05,\n",
       "        9.94579673e-01],\n",
       "       [1.26726974e-07, 9.99847889e-01, 1.12333437e-05, 1.40860415e-04,\n",
       "        8.22768742e-10],\n",
       "       [9.18264594e-03, 4.41565504e-03, 1.48434337e-04, 9.86252546e-01,\n",
       "        8.08643506e-07],\n",
       "       [9.99858141e-01, 2.78284737e-08, 6.69964917e-11, 3.36867210e-08,\n",
       "        1.41927536e-04],\n",
       "       [1.89058676e-01, 2.62086600e-04, 1.18250726e-03, 8.09481204e-01,\n",
       "        1.54355803e-05],\n",
       "       [2.01071497e-08, 9.99947011e-01, 5.10758923e-07, 9.75620310e-07,\n",
       "        5.15457032e-05],\n",
       "       [3.39210257e-02, 2.92661809e-03, 1.68579370e-01, 7.94543326e-01,\n",
       "        2.95269583e-05],\n",
       "       [8.54504023e-08, 9.99504030e-01, 4.99864218e-05, 5.41627051e-05,\n",
       "        3.91482870e-04],\n",
       "       [1.04775813e-06, 6.28063049e-07, 9.99990523e-01, 7.74815453e-06,\n",
       "        2.89967117e-09],\n",
       "       [9.99802589e-01, 6.70176270e-09, 2.35445344e-12, 1.81029431e-08,\n",
       "        1.97511530e-04],\n",
       "       [3.42899762e-06, 2.34972708e-06, 1.04266724e-06, 9.99993145e-01,\n",
       "        3.00440089e-10],\n",
       "       [5.26123404e-05, 7.56390000e-06, 9.99922931e-01, 1.68167626e-05,\n",
       "        2.39769271e-08],\n",
       "       [1.68014526e-01, 1.88078522e-03, 9.63346008e-03, 8.20470750e-01,\n",
       "        5.28734802e-07],\n",
       "       [9.99951184e-01, 1.31908905e-07, 1.28072214e-11, 5.93609855e-08,\n",
       "        4.85784149e-05],\n",
       "       [4.19017073e-04, 1.21938949e-02, 8.85531455e-02, 8.98803413e-01,\n",
       "        3.05751964e-05],\n",
       "       [9.99989569e-01, 2.67414208e-07, 3.04554819e-11, 3.07183370e-07,\n",
       "        9.77654599e-06],\n",
       "       [8.79731215e-06, 9.89880860e-01, 1.79795106e-03, 6.37038844e-03,\n",
       "        1.94203248e-03],\n",
       "       [8.08933933e-08, 1.70285584e-05, 9.99650717e-01, 3.32102383e-04,\n",
       "        1.00372933e-12],\n",
       "       [9.23753440e-01, 3.07126953e-07, 2.43735893e-10, 1.17554953e-06,\n",
       "        7.62449577e-02],\n",
       "       [2.24150463e-05, 3.16548358e-05, 2.29113782e-03, 9.97654736e-01,\n",
       "        9.28564725e-11],\n",
       "       [2.06425181e-03, 1.93535462e-02, 1.00617923e-08, 1.06146103e-02,\n",
       "        9.67967451e-01],\n",
       "       [4.15781493e-10, 9.99882996e-01, 1.09866771e-04, 6.99439079e-06,\n",
       "        1.12461871e-08],\n",
       "       [9.99958813e-01, 2.85914825e-09, 5.57829853e-16, 7.06735798e-12,\n",
       "        4.10664907e-05],\n",
       "       [2.19053327e-05, 4.05619107e-03, 2.19814032e-02, 9.73940492e-01,\n",
       "        1.40891663e-08],\n",
       "       [9.99662638e-01, 6.63228684e-06, 5.98966501e-11, 1.15403861e-06,\n",
       "        3.29561793e-04],\n",
       "       [9.99866724e-01, 3.66553977e-05, 1.64897607e-08, 2.30720030e-08,\n",
       "        9.65597428e-05],\n",
       "       [8.63677502e-01, 1.00190006e-03, 6.67061540e-05, 7.91177503e-04,\n",
       "        1.34462729e-01],\n",
       "       [1.37228878e-12, 9.99999702e-01, 8.18964452e-08, 2.22341647e-08,\n",
       "        1.38863527e-07],\n",
       "       [8.68778471e-08, 9.86657739e-01, 1.01159082e-03, 1.23262377e-02,\n",
       "        4.27134728e-06],\n",
       "       [4.98879162e-05, 2.50513676e-05, 9.96910512e-01, 3.00981593e-03,\n",
       "        4.59666808e-06],\n",
       "       [8.72864425e-02, 1.37202501e-01, 2.07208060e-02, 5.54459870e-01,\n",
       "        2.00330347e-01],\n",
       "       [1.30103799e-04, 9.99794960e-01, 5.11852486e-05, 2.37693694e-05,\n",
       "        3.78214224e-08],\n",
       "       [1.09758582e-02, 2.02033207e-01, 1.25807226e-01, 6.53304113e-03,\n",
       "        6.54650688e-01],\n",
       "       [1.77772995e-03, 5.64752668e-02, 2.45647680e-04, 2.76102335e-03,\n",
       "        9.38740373e-01],\n",
       "       [3.14876059e-04, 9.38669860e-01, 2.18088413e-03, 1.00753421e-03,\n",
       "        5.78268208e-02],\n",
       "       [4.94131172e-08, 9.98265445e-01, 5.44263050e-04, 1.18821533e-03,\n",
       "        2.03007562e-06],\n",
       "       [7.56624286e-05, 9.53944493e-03, 2.30533909e-03, 7.44212302e-05,\n",
       "        9.88005102e-01],\n",
       "       [9.35874937e-07, 9.72489059e-01, 2.60862950e-02, 1.32853154e-03,\n",
       "        9.52077244e-05],\n",
       "       [3.34569772e-09, 8.59289430e-05, 1.50760861e-05, 9.99898970e-01,\n",
       "        4.01147778e-12],\n",
       "       [1.77405323e-04, 5.77479664e-09, 6.88138248e-15, 3.68636521e-09,\n",
       "        9.99822617e-01],\n",
       "       [3.85900697e-04, 4.93268460e-01, 4.34977323e-04, 5.69779007e-03,\n",
       "        5.00212967e-01],\n",
       "       [9.99990761e-01, 5.85837029e-07, 7.99839128e-09, 8.04730098e-06,\n",
       "        5.04335333e-07],\n",
       "       [1.74376567e-07, 2.20696220e-05, 3.28594069e-05, 9.99944866e-01,\n",
       "        7.89814394e-11],\n",
       "       [4.18545169e-05, 6.69035217e-06, 5.39197913e-07, 9.99950826e-01,\n",
       "        5.15643563e-08],\n",
       "       [9.99907076e-01, 3.33827338e-05, 1.27410873e-08, 5.69247022e-05,\n",
       "        2.52693735e-06],\n",
       "       [3.32005499e-07, 1.74185634e-02, 3.17322382e-08, 8.03023613e-06,\n",
       "        9.82572973e-01],\n",
       "       [2.08169766e-07, 9.89329100e-01, 1.06124179e-02, 5.77551691e-05,\n",
       "        3.47027253e-07],\n",
       "       [1.73446489e-03, 2.37426266e-01, 1.76118448e-01, 5.84344506e-01,\n",
       "        3.76231794e-04],\n",
       "       [7.05673884e-08, 3.09343704e-06, 2.14794581e-03, 9.97848868e-01,\n",
       "        7.08787473e-11],\n",
       "       [9.23843327e-05, 9.97406960e-01, 6.18084101e-04, 1.86788151e-03,\n",
       "        1.48011704e-05],\n",
       "       [3.49967277e-09, 2.04816231e-09, 9.99999940e-01, 2.48743639e-08,\n",
       "        8.51787998e-12],\n",
       "       [9.99680400e-01, 4.52377244e-05, 1.21483335e-09, 1.23214631e-05,\n",
       "        2.62026064e-04],\n",
       "       [1.43858495e-06, 1.62530414e-04, 9.99825716e-01, 1.01147953e-05,\n",
       "        2.44028797e-07],\n",
       "       [9.99955475e-01, 7.30885930e-08, 3.67640770e-12, 7.90696788e-08,\n",
       "        4.42545897e-05],\n",
       "       [1.05756380e-01, 2.78679699e-01, 2.27260776e-03, 4.90571141e-01,\n",
       "        1.22720137e-01],\n",
       "       [1.82200324e-07, 9.07840550e-01, 9.17771310e-02, 3.75075382e-04,\n",
       "        6.90534262e-06],\n",
       "       [1.41075591e-03, 1.03290204e-03, 1.13312453e-05, 9.97523963e-01,\n",
       "        2.09988812e-05],\n",
       "       [6.36068056e-04, 1.73905343e-02, 9.14840639e-01, 6.71322197e-02,\n",
       "        6.30589852e-07],\n",
       "       [7.33878380e-09, 9.93947566e-01, 9.42728511e-05, 1.06980651e-05,\n",
       "        5.94749814e-03],\n",
       "       [3.38415778e-03, 1.34133035e-02, 2.65942549e-06, 9.09991097e-03,\n",
       "        9.74099934e-01],\n",
       "       [9.94703948e-01, 1.09412358e-05, 1.03140418e-09, 1.15868943e-05,\n",
       "        5.27345994e-03],\n",
       "       [5.77025457e-06, 7.13517051e-03, 9.59538996e-01, 3.33202146e-02,\n",
       "        4.86481166e-09],\n",
       "       [2.82345973e-02, 7.33670413e-01, 1.22079793e-02, 1.74075007e-01,\n",
       "        5.18121161e-02],\n",
       "       [9.99998629e-01, 9.87605642e-09, 2.11180596e-12, 4.58775573e-10,\n",
       "        1.34119171e-06],\n",
       "       [1.38084055e-04, 9.70646262e-01, 9.50744492e-04, 4.87773505e-04,\n",
       "        2.77770907e-02],\n",
       "       [1.62874567e-04, 4.73170727e-03, 7.26150349e-03, 9.87791955e-01,\n",
       "        5.19251553e-05],\n",
       "       [7.62440550e-06, 9.93627548e-01, 5.55022061e-03, 8.09428224e-04,\n",
       "        5.20158528e-06],\n",
       "       [9.68916953e-01, 4.09045344e-04, 2.67691621e-06, 1.16127124e-03,\n",
       "        2.95100398e-02],\n",
       "       [2.44094558e-08, 5.50766686e-07, 9.99998391e-01, 9.53425399e-07,\n",
       "        2.80992252e-09],\n",
       "       [1.91598397e-03, 2.60797297e-05, 3.07385015e-08, 1.42402987e-05,\n",
       "        9.98043597e-01],\n",
       "       [1.79620220e-05, 1.58601478e-02, 9.82006729e-01, 2.10796902e-03,\n",
       "        7.15618626e-06],\n",
       "       [1.27957762e-07, 2.27717479e-07, 6.07530774e-06, 9.99993503e-01,\n",
       "        2.39888751e-11],\n",
       "       [4.52252716e-01, 1.85952678e-01, 1.96381612e-03, 3.70363407e-02,\n",
       "        3.22794437e-01],\n",
       "       [1.96070727e-02, 2.37573744e-07, 6.18317593e-12, 1.98849847e-07,\n",
       "        9.80392456e-01],\n",
       "       [7.75826629e-06, 9.62563753e-01, 1.39782252e-03, 3.60149071e-02,\n",
       "        1.57617160e-05],\n",
       "       [9.77272928e-01, 1.02334905e-08, 2.07015918e-10, 1.88549748e-07,\n",
       "        2.27267928e-02],\n",
       "       [2.19061178e-08, 9.99846935e-01, 1.28682757e-07, 1.50230890e-05,\n",
       "        1.37961630e-04],\n",
       "       [9.68718529e-01, 4.87065745e-06, 1.28180830e-06, 3.08715049e-02,\n",
       "        4.03844082e-04],\n",
       "       [1.04919104e-06, 9.98574495e-01, 4.68310609e-04, 9.36067139e-04,\n",
       "        2.00097493e-05],\n",
       "       [9.04727757e-01, 1.02658589e-04, 5.28457145e-09, 8.93989491e-05,\n",
       "        9.50801000e-02],\n",
       "       [2.41653150e-04, 4.44791093e-03, 1.59984361e-03, 9.93709981e-01,\n",
       "        5.82050347e-07],\n",
       "       [1.98525353e-03, 1.09287968e-03, 9.93511379e-01, 1.91772520e-03,\n",
       "        1.49280112e-03],\n",
       "       [3.22698106e-05, 1.20754084e-04, 2.09499579e-02, 9.78896737e-01,\n",
       "        2.56500982e-07],\n",
       "       [5.34796982e-07, 6.60388935e-08, 2.76684910e-02, 9.72330928e-01,\n",
       "        6.69648573e-11],\n",
       "       [6.62052631e-01, 1.21682240e-02, 5.20238837e-06, 2.35101223e-01,\n",
       "        9.06726196e-02],\n",
       "       [6.51304435e-04, 6.91863477e-01, 2.78654486e-01, 2.79766191e-02,\n",
       "        8.54060752e-04],\n",
       "       [6.14419187e-05, 1.35341065e-03, 1.28458431e-02, 9.85739231e-01,\n",
       "        1.89029823e-08],\n",
       "       [3.17022670e-03, 9.21322048e-01, 6.31421630e-04, 9.98238381e-03,\n",
       "        6.48938790e-02],\n",
       "       [9.99996841e-01, 3.11597546e-07, 1.32196884e-11, 4.37597549e-07,\n",
       "        2.25281178e-06],\n",
       "       [2.65313807e-04, 1.88689434e-03, 3.12557042e-01, 6.85275674e-01,\n",
       "        1.50841752e-05],\n",
       "       [6.95479335e-04, 1.47260820e-07, 2.83898637e-13, 1.78583337e-09,\n",
       "        9.99304533e-01],\n",
       "       [4.37065698e-02, 2.08118308e-05, 7.59857585e-06, 9.55335081e-01,\n",
       "        9.29894100e-04],\n",
       "       [3.89806155e-06, 9.98398364e-01, 2.87504804e-06, 2.78688331e-05,\n",
       "        1.56700099e-03],\n",
       "       [9.91913080e-01, 5.55904116e-04, 6.02614705e-08, 2.99079784e-05,\n",
       "        7.50095630e-03],\n",
       "       [9.99815702e-01, 1.02557649e-04, 7.61835456e-11, 5.93241168e-07,\n",
       "        8.12381695e-05],\n",
       "       [6.69389101e-06, 5.73615074e-01, 4.23734218e-01, 5.04016589e-06,\n",
       "        2.63899541e-03],\n",
       "       [9.99006450e-01, 8.11930862e-04, 2.68681033e-05, 1.19500204e-04,\n",
       "        3.51364470e-05],\n",
       "       [6.26520569e-09, 1.66251569e-03, 9.98259842e-01, 7.76097950e-05,\n",
       "        4.30443414e-08],\n",
       "       [2.14075819e-01, 7.23995209e-01, 1.34564629e-02, 2.87773982e-02,\n",
       "        1.96951702e-02],\n",
       "       [1.54933761e-04, 2.03317252e-09, 6.45783069e-14, 1.52004880e-08,\n",
       "        9.99845028e-01],\n",
       "       [9.99632657e-01, 1.53214188e-08, 6.81051556e-14, 2.98157876e-09,\n",
       "        3.67439294e-04],\n",
       "       [7.90131185e-03, 4.23881318e-03, 9.17606473e-01, 6.98820502e-02,\n",
       "        3.71361704e-04],\n",
       "       [1.26428024e-08, 6.51894370e-04, 9.99300718e-01, 4.75432280e-05,\n",
       "        3.26023897e-09],\n",
       "       [7.11762246e-11, 9.99917567e-01, 3.76253562e-09, 1.97026784e-10,\n",
       "        8.23687151e-05],\n",
       "       [1.32250338e-04, 5.86317212e-04, 5.81310715e-08, 2.03769032e-05,\n",
       "        9.99261022e-01],\n",
       "       [1.32131472e-05, 3.86874599e-04, 9.99449372e-01, 1.50391803e-04,\n",
       "        2.52234940e-07],\n",
       "       [4.57900800e-02, 6.75513656e-05, 1.67100770e-05, 9.54097211e-01,\n",
       "        2.84196485e-05],\n",
       "       [1.13539238e-04, 2.25548595e-02, 2.88828872e-02, 9.48444307e-01,\n",
       "        4.54347537e-06],\n",
       "       [3.34369901e-07, 2.94635713e-04, 9.99081492e-01, 6.23476808e-04,\n",
       "        2.22220553e-08],\n",
       "       [1.47948638e-02, 4.99353632e-02, 1.61257121e-04, 6.92316564e-03,\n",
       "        9.28185344e-01],\n",
       "       [4.48986498e-07, 4.50553889e-05, 9.99946535e-01, 7.51889047e-06,\n",
       "        3.29849513e-07],\n",
       "       [2.16788816e-04, 9.99213994e-01, 2.99413314e-05, 5.39258064e-04,\n",
       "        1.61619980e-07],\n",
       "       [9.57352131e-06, 9.95409489e-01, 4.30891290e-03, 9.00368559e-06,\n",
       "        2.62999558e-04],\n",
       "       [4.95044202e-01, 3.68361748e-06, 2.39381762e-07, 1.82914880e-06,\n",
       "        5.04950106e-01],\n",
       "       [9.99092102e-01, 1.35051823e-05, 4.23494217e-09, 1.71087481e-06,\n",
       "        8.92819487e-04],\n",
       "       [2.09061795e-06, 9.98876929e-01, 9.23277636e-04, 1.84506949e-04,\n",
       "        1.30527251e-05],\n",
       "       [9.99999583e-01, 4.73404604e-08, 2.77997159e-09, 3.26222391e-07,\n",
       "        8.39774206e-09],\n",
       "       [2.32476160e-01, 3.35288845e-04, 4.58996910e-05, 7.60224342e-01,\n",
       "        6.91820541e-03],\n",
       "       [4.74758126e-04, 5.55229781e-04, 1.08689585e-06, 9.98940647e-01,\n",
       "        2.83576192e-05],\n",
       "       [9.04765427e-01, 1.83119532e-02, 2.42055035e-06, 1.55515299e-04,\n",
       "        7.67646283e-02],\n",
       "       [1.65817571e-09, 9.99941409e-01, 1.82083386e-05, 1.09082257e-05,\n",
       "        2.93163284e-05],\n",
       "       [9.99823570e-01, 6.37270714e-05, 3.97890801e-07, 1.04781502e-04,\n",
       "        7.46667047e-06],\n",
       "       [8.94846153e-09, 2.49763836e-08, 9.99999821e-01, 9.41298168e-08,\n",
       "        4.60133721e-13],\n",
       "       [1.15668913e-02, 5.73004363e-04, 1.97071230e-07, 1.29724741e-01,\n",
       "        8.58135164e-01],\n",
       "       [4.21149480e-06, 1.07863219e-02, 9.89108860e-01, 1.00562145e-04,\n",
       "        8.12121286e-08],\n",
       "       [2.15275034e-01, 2.22585768e-07, 4.27122195e-08, 1.52991970e-06,\n",
       "        7.84723163e-01],\n",
       "       [1.09226264e-08, 9.64275420e-01, 1.52812245e-05, 1.24818200e-07,\n",
       "        3.57091539e-02],\n",
       "       [6.43757288e-04, 4.65653329e-08, 1.69803321e-12, 1.18139894e-07,\n",
       "        9.99356091e-01],\n",
       "       [2.57283042e-04, 8.31533194e-01, 4.30791639e-02, 4.54988666e-02,\n",
       "        7.96313286e-02],\n",
       "       [9.99025166e-01, 9.21326398e-04, 4.21069153e-08, 3.39978324e-05,\n",
       "        1.95884186e-05],\n",
       "       [8.86437134e-04, 1.71363950e-01, 1.15921786e-04, 2.37618551e-05,\n",
       "        8.27609956e-01],\n",
       "       [2.53460258e-01, 1.07311324e-04, 7.10762933e-08, 3.51083963e-06,\n",
       "        7.46428907e-01],\n",
       "       [9.99939740e-01, 7.58553576e-09, 1.02651550e-14, 8.85922169e-10,\n",
       "        6.02219770e-05],\n",
       "       [7.44153886e-06, 4.86492013e-07, 9.99990165e-01, 1.74972092e-06,\n",
       "        2.32503616e-09],\n",
       "       [2.85372971e-06, 4.65257704e-01, 5.34472883e-01, 2.66268704e-04,\n",
       "        2.83079146e-07],\n",
       "       [9.43456143e-06, 9.89488840e-01, 2.14264495e-03, 6.54388359e-03,\n",
       "        1.81520591e-03],\n",
       "       [8.71881284e-03, 2.28797115e-04, 4.37108189e-01, 5.51619589e-01,\n",
       "        2.32470199e-03],\n",
       "       [9.78026569e-01, 8.92176200e-03, 2.28236931e-05, 1.59830449e-03,\n",
       "        1.14303743e-02],\n",
       "       [2.62553757e-03, 8.28815639e-01, 7.77234032e-04, 2.66050524e-03,\n",
       "        1.65120959e-01],\n",
       "       [9.19146895e-01, 1.70663825e-05, 3.65201828e-07, 4.74205706e-03,\n",
       "        7.60935321e-02],\n",
       "       [4.61036498e-09, 9.99590814e-01, 4.03741578e-04, 3.44943464e-06,\n",
       "        2.01516377e-06],\n",
       "       [1.91505605e-05, 7.33457773e-06, 1.71069745e-02, 9.82866585e-01,\n",
       "        2.53096366e-09],\n",
       "       [4.70725769e-09, 1.21687833e-07, 9.99999583e-01, 2.07081712e-07,\n",
       "        4.13508644e-10],\n",
       "       [9.98652756e-01, 1.30746649e-08, 2.25134343e-12, 1.72437193e-08,\n",
       "        1.34727755e-03],\n",
       "       [1.15529567e-01, 2.81933188e-01, 1.50506333e-01, 4.48923498e-01,\n",
       "        3.10729560e-03],\n",
       "       [2.03134221e-08, 2.71129538e-03, 9.97282565e-01, 6.01872034e-06,\n",
       "        6.29380104e-09],\n",
       "       [9.99385655e-01, 3.42713315e-06, 4.36500258e-08, 3.93862254e-04,\n",
       "        2.17073306e-04],\n",
       "       [9.99979675e-01, 4.47407444e-07, 1.92853390e-11, 1.31118114e-07,\n",
       "        1.96111741e-05],\n",
       "       [9.99982893e-01, 5.54383419e-08, 2.18783273e-11, 3.05922782e-07,\n",
       "        1.66848422e-05],\n",
       "       [8.54856133e-01, 4.41490469e-04, 2.27251599e-04, 1.43701538e-01,\n",
       "        7.73562992e-04],\n",
       "       [5.96374905e-09, 9.92860019e-01, 7.10632978e-03, 2.75281873e-05,\n",
       "        6.03467925e-06],\n",
       "       [2.96522469e-08, 2.09257734e-04, 9.99665260e-01, 1.25212711e-04,\n",
       "        1.82915556e-07],\n",
       "       [6.24501772e-05, 1.88378202e-09, 6.30676380e-17, 2.34226194e-10,\n",
       "        9.99937475e-01],\n",
       "       [9.99666333e-01, 8.39950815e-07, 4.67881463e-12, 2.51270849e-09,\n",
       "        3.32878728e-04],\n",
       "       [1.39698699e-07, 9.99772370e-01, 8.88638453e-07, 1.32405490e-04,\n",
       "        9.42998231e-05],\n",
       "       [8.86741102e-01, 7.92233550e-07, 2.92773111e-10, 7.72915610e-06,\n",
       "        1.13250434e-01]], dtype=float32)"
      ]
     },
     "execution_count": 23,
     "metadata": {},
     "output_type": "execute_result"
    }
   ],
   "source": [
    "model.predict(x_test)"
   ]
  },
  {
   "cell_type": "code",
   "execution_count": null,
   "id": "3ce4d3af",
   "metadata": {
    "id": "3ce4d3af",
    "outputId": "13d40eec-12b7-4e1f-e7e1-e90e18c60eeb"
   },
   "outputs": [],
   "source": []
  },
  {
   "cell_type": "code",
   "execution_count": null,
   "id": "cf4c6601",
   "metadata": {
    "id": "cf4c6601"
   },
   "outputs": [],
   "source": []
  },
  {
   "cell_type": "code",
   "execution_count": null,
   "id": "e08de35b",
   "metadata": {
    "id": "e08de35b"
   },
   "outputs": [],
   "source": []
  },
  {
   "cell_type": "code",
   "execution_count": null,
   "id": "28b79670",
   "metadata": {
    "id": "28b79670"
   },
   "outputs": [],
   "source": []
  },
  {
   "cell_type": "code",
   "execution_count": null,
   "id": "296de3fa",
   "metadata": {
    "id": "296de3fa"
   },
   "outputs": [],
   "source": []
  }
 ],
 "metadata": {
  "colab": {
   "name": "my_Pro.ipynb",
   "provenance": []
  },
  "kernelspec": {
   "display_name": "Python 3 (ipykernel)",
   "language": "python",
   "name": "python3"
  },
  "language_info": {
   "codemirror_mode": {
    "name": "ipython",
    "version": 3
   },
   "file_extension": ".py",
   "mimetype": "text/x-python",
   "name": "python",
   "nbconvert_exporter": "python",
   "pygments_lexer": "ipython3",
   "version": "3.8.15"
  }
 },
 "nbformat": 4,
 "nbformat_minor": 5
}
